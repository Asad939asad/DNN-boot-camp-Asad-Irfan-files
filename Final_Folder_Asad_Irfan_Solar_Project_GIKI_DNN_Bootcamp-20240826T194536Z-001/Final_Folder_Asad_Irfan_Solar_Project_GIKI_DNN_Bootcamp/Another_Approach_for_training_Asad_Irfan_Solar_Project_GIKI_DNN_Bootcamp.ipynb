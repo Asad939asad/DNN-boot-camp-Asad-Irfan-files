{
  "nbformat": 4,
  "nbformat_minor": 0,
  "metadata": {
    "colab": {
      "provenance": []
    },
    "kernelspec": {
      "name": "python3",
      "display_name": "Python 3"
    },
    "language_info": {
      "name": "python"
    }
  },
  "cells": [
    {
      "cell_type": "code",
      "execution_count": null,
      "metadata": {
        "colab": {
          "base_uri": "https://localhost:8080/",
          "height": 697
        },
        "id": "i8OL93AVCu8g",
        "outputId": "b5326732-e27f-4fc5-b202-9fe01497cddd"
      },
      "outputs": [
        {
          "output_type": "execute_result",
          "data": {
            "text/plain": [
              "    generation_W     load_W  connection_type  location  panels_capacity  \\\n",
              "0            0.0  525.66667                0         9            5.005   \n",
              "1            0.0  518.90000                0         9            5.005   \n",
              "2            0.0  528.50001                0         9            5.005   \n",
              "3            0.0  517.99999                0         9            5.005   \n",
              "4            0.0  520.90001                0         9            5.005   \n",
              "5            0.0  523.50000                0         9            5.005   \n",
              "6            0.0  517.66666                0         9            5.005   \n",
              "7            0.0  530.70000                0         9            5.005   \n",
              "8            0.0  517.09999                0         9            5.005   \n",
              "9            0.0  513.20001                0         9            5.005   \n",
              "10           0.0  508.00000                0         9            5.005   \n",
              "11           0.0  512.30000                0         9            5.005   \n",
              "12           0.0  516.40000                0         9            5.005   \n",
              "13           0.0  522.00000                0         9            5.005   \n",
              "14           0.0  516.30000                0         9            5.005   \n",
              "15           0.0  521.00000                0         9            5.005   \n",
              "16           0.0  514.44445                0         9            5.005   \n",
              "17           0.0  511.59999                0         9            5.005   \n",
              "18           0.0  517.09999                0         9            5.005   \n",
              "19           0.0  518.77778                0         9            5.005   \n",
              "\n",
              "    load_capacity  year  month  day  hour  minute  time_standard  \\\n",
              "0             5.5  2023      8   14     1      50              0   \n",
              "1             5.5  2023      8   14     2       0              0   \n",
              "2             5.5  2023      8   14     2      10              0   \n",
              "3             5.5  2023      8   14     2      20              0   \n",
              "4             5.5  2023      8   14     2      30              0   \n",
              "5             5.5  2023      8   14     2      40              0   \n",
              "6             5.5  2023      8   14     2      50              0   \n",
              "7             5.5  2023      8   14     3       0              0   \n",
              "8             5.5  2023      8   14     3      10              0   \n",
              "9             5.5  2023      8   14     3      20              0   \n",
              "10            5.5  2023      8   14     3      30              0   \n",
              "11            5.5  2023      8   14     3      40              0   \n",
              "12            5.5  2023      8   14     3      50              0   \n",
              "13            5.5  2023      8   14     4       0              0   \n",
              "14            5.5  2023      8   14     4      10              0   \n",
              "15            5.5  2023      8   14     4      20              0   \n",
              "16            5.5  2023      8   14     4      30              0   \n",
              "17            5.5  2023      8   14     4      40              0   \n",
              "18            5.5  2023      8   14     4      50              0   \n",
              "19            5.5  2023      8   14     5       0              0   \n",
              "\n",
              "    peak_production  day_of_week  is_weekend  time_of_day  season  \\\n",
              "0                 1            0           0            3       2   \n",
              "1                 1            0           0            3       2   \n",
              "2                 1            0           0            3       2   \n",
              "3                 1            0           0            3       2   \n",
              "4                 1            0           0            3       2   \n",
              "5                 1            0           0            3       2   \n",
              "6                 1            0           0            3       2   \n",
              "7                 1            0           0            3       2   \n",
              "8                 1            0           0            3       2   \n",
              "9                 1            0           0            3       2   \n",
              "10                1            0           0            3       2   \n",
              "11                1            0           0            3       2   \n",
              "12                1            0           0            3       2   \n",
              "13                1            0           0            3       2   \n",
              "14                1            0           0            3       2   \n",
              "15                1            0           0            3       2   \n",
              "16                1            0           0            3       2   \n",
              "17                1            0           0            3       2   \n",
              "18                1            0           0            3       2   \n",
              "19                1            0           0            0       2   \n",
              "\n",
              "    generation_W_rolling_mean_1h  generation_to_capacity_ratio  \\\n",
              "0                            0.0                           0.0   \n",
              "1                            0.0                           0.0   \n",
              "2                            0.0                           0.0   \n",
              "3                            0.0                           0.0   \n",
              "4                            0.0                           0.0   \n",
              "5                            0.0                           0.0   \n",
              "6                            0.0                           0.0   \n",
              "7                            0.0                           0.0   \n",
              "8                            0.0                           0.0   \n",
              "9                            0.0                           0.0   \n",
              "10                           0.0                           0.0   \n",
              "11                           0.0                           0.0   \n",
              "12                           0.0                           0.0   \n",
              "13                           0.0                           0.0   \n",
              "14                           0.0                           0.0   \n",
              "15                           0.0                           0.0   \n",
              "16                           0.0                           0.0   \n",
              "17                           0.0                           0.0   \n",
              "18                           0.0                           0.0   \n",
              "19                           0.0                           0.0   \n",
              "\n",
              "    time_since_start  \n",
              "0             6600.0  \n",
              "1             7200.0  \n",
              "2             7800.0  \n",
              "3             8400.0  \n",
              "4             9000.0  \n",
              "5             9600.0  \n",
              "6            10200.0  \n",
              "7            10800.0  \n",
              "8            11400.0  \n",
              "9            12000.0  \n",
              "10           12600.0  \n",
              "11           13200.0  \n",
              "12           13800.0  \n",
              "13           14400.0  \n",
              "14           15000.0  \n",
              "15           15600.0  \n",
              "16           16200.0  \n",
              "17           16800.0  \n",
              "18           17400.0  \n",
              "19           18000.0  "
            ],
            "text/html": [
              "\n",
              "  <div id=\"df-f4d16d16-9fb1-42b6-b47e-3b79ce488c86\" class=\"colab-df-container\">\n",
              "    <div>\n",
              "<style scoped>\n",
              "    .dataframe tbody tr th:only-of-type {\n",
              "        vertical-align: middle;\n",
              "    }\n",
              "\n",
              "    .dataframe tbody tr th {\n",
              "        vertical-align: top;\n",
              "    }\n",
              "\n",
              "    .dataframe thead th {\n",
              "        text-align: right;\n",
              "    }\n",
              "</style>\n",
              "<table border=\"1\" class=\"dataframe\">\n",
              "  <thead>\n",
              "    <tr style=\"text-align: right;\">\n",
              "      <th></th>\n",
              "      <th>generation_W</th>\n",
              "      <th>load_W</th>\n",
              "      <th>connection_type</th>\n",
              "      <th>location</th>\n",
              "      <th>panels_capacity</th>\n",
              "      <th>load_capacity</th>\n",
              "      <th>year</th>\n",
              "      <th>month</th>\n",
              "      <th>day</th>\n",
              "      <th>hour</th>\n",
              "      <th>minute</th>\n",
              "      <th>time_standard</th>\n",
              "      <th>peak_production</th>\n",
              "      <th>day_of_week</th>\n",
              "      <th>is_weekend</th>\n",
              "      <th>time_of_day</th>\n",
              "      <th>season</th>\n",
              "      <th>generation_W_rolling_mean_1h</th>\n",
              "      <th>generation_to_capacity_ratio</th>\n",
              "      <th>time_since_start</th>\n",
              "    </tr>\n",
              "  </thead>\n",
              "  <tbody>\n",
              "    <tr>\n",
              "      <th>0</th>\n",
              "      <td>0.0</td>\n",
              "      <td>525.66667</td>\n",
              "      <td>0</td>\n",
              "      <td>9</td>\n",
              "      <td>5.005</td>\n",
              "      <td>5.5</td>\n",
              "      <td>2023</td>\n",
              "      <td>8</td>\n",
              "      <td>14</td>\n",
              "      <td>1</td>\n",
              "      <td>50</td>\n",
              "      <td>0</td>\n",
              "      <td>1</td>\n",
              "      <td>0</td>\n",
              "      <td>0</td>\n",
              "      <td>3</td>\n",
              "      <td>2</td>\n",
              "      <td>0.0</td>\n",
              "      <td>0.0</td>\n",
              "      <td>6600.0</td>\n",
              "    </tr>\n",
              "    <tr>\n",
              "      <th>1</th>\n",
              "      <td>0.0</td>\n",
              "      <td>518.90000</td>\n",
              "      <td>0</td>\n",
              "      <td>9</td>\n",
              "      <td>5.005</td>\n",
              "      <td>5.5</td>\n",
              "      <td>2023</td>\n",
              "      <td>8</td>\n",
              "      <td>14</td>\n",
              "      <td>2</td>\n",
              "      <td>0</td>\n",
              "      <td>0</td>\n",
              "      <td>1</td>\n",
              "      <td>0</td>\n",
              "      <td>0</td>\n",
              "      <td>3</td>\n",
              "      <td>2</td>\n",
              "      <td>0.0</td>\n",
              "      <td>0.0</td>\n",
              "      <td>7200.0</td>\n",
              "    </tr>\n",
              "    <tr>\n",
              "      <th>2</th>\n",
              "      <td>0.0</td>\n",
              "      <td>528.50001</td>\n",
              "      <td>0</td>\n",
              "      <td>9</td>\n",
              "      <td>5.005</td>\n",
              "      <td>5.5</td>\n",
              "      <td>2023</td>\n",
              "      <td>8</td>\n",
              "      <td>14</td>\n",
              "      <td>2</td>\n",
              "      <td>10</td>\n",
              "      <td>0</td>\n",
              "      <td>1</td>\n",
              "      <td>0</td>\n",
              "      <td>0</td>\n",
              "      <td>3</td>\n",
              "      <td>2</td>\n",
              "      <td>0.0</td>\n",
              "      <td>0.0</td>\n",
              "      <td>7800.0</td>\n",
              "    </tr>\n",
              "    <tr>\n",
              "      <th>3</th>\n",
              "      <td>0.0</td>\n",
              "      <td>517.99999</td>\n",
              "      <td>0</td>\n",
              "      <td>9</td>\n",
              "      <td>5.005</td>\n",
              "      <td>5.5</td>\n",
              "      <td>2023</td>\n",
              "      <td>8</td>\n",
              "      <td>14</td>\n",
              "      <td>2</td>\n",
              "      <td>20</td>\n",
              "      <td>0</td>\n",
              "      <td>1</td>\n",
              "      <td>0</td>\n",
              "      <td>0</td>\n",
              "      <td>3</td>\n",
              "      <td>2</td>\n",
              "      <td>0.0</td>\n",
              "      <td>0.0</td>\n",
              "      <td>8400.0</td>\n",
              "    </tr>\n",
              "    <tr>\n",
              "      <th>4</th>\n",
              "      <td>0.0</td>\n",
              "      <td>520.90001</td>\n",
              "      <td>0</td>\n",
              "      <td>9</td>\n",
              "      <td>5.005</td>\n",
              "      <td>5.5</td>\n",
              "      <td>2023</td>\n",
              "      <td>8</td>\n",
              "      <td>14</td>\n",
              "      <td>2</td>\n",
              "      <td>30</td>\n",
              "      <td>0</td>\n",
              "      <td>1</td>\n",
              "      <td>0</td>\n",
              "      <td>0</td>\n",
              "      <td>3</td>\n",
              "      <td>2</td>\n",
              "      <td>0.0</td>\n",
              "      <td>0.0</td>\n",
              "      <td>9000.0</td>\n",
              "    </tr>\n",
              "    <tr>\n",
              "      <th>5</th>\n",
              "      <td>0.0</td>\n",
              "      <td>523.50000</td>\n",
              "      <td>0</td>\n",
              "      <td>9</td>\n",
              "      <td>5.005</td>\n",
              "      <td>5.5</td>\n",
              "      <td>2023</td>\n",
              "      <td>8</td>\n",
              "      <td>14</td>\n",
              "      <td>2</td>\n",
              "      <td>40</td>\n",
              "      <td>0</td>\n",
              "      <td>1</td>\n",
              "      <td>0</td>\n",
              "      <td>0</td>\n",
              "      <td>3</td>\n",
              "      <td>2</td>\n",
              "      <td>0.0</td>\n",
              "      <td>0.0</td>\n",
              "      <td>9600.0</td>\n",
              "    </tr>\n",
              "    <tr>\n",
              "      <th>6</th>\n",
              "      <td>0.0</td>\n",
              "      <td>517.66666</td>\n",
              "      <td>0</td>\n",
              "      <td>9</td>\n",
              "      <td>5.005</td>\n",
              "      <td>5.5</td>\n",
              "      <td>2023</td>\n",
              "      <td>8</td>\n",
              "      <td>14</td>\n",
              "      <td>2</td>\n",
              "      <td>50</td>\n",
              "      <td>0</td>\n",
              "      <td>1</td>\n",
              "      <td>0</td>\n",
              "      <td>0</td>\n",
              "      <td>3</td>\n",
              "      <td>2</td>\n",
              "      <td>0.0</td>\n",
              "      <td>0.0</td>\n",
              "      <td>10200.0</td>\n",
              "    </tr>\n",
              "    <tr>\n",
              "      <th>7</th>\n",
              "      <td>0.0</td>\n",
              "      <td>530.70000</td>\n",
              "      <td>0</td>\n",
              "      <td>9</td>\n",
              "      <td>5.005</td>\n",
              "      <td>5.5</td>\n",
              "      <td>2023</td>\n",
              "      <td>8</td>\n",
              "      <td>14</td>\n",
              "      <td>3</td>\n",
              "      <td>0</td>\n",
              "      <td>0</td>\n",
              "      <td>1</td>\n",
              "      <td>0</td>\n",
              "      <td>0</td>\n",
              "      <td>3</td>\n",
              "      <td>2</td>\n",
              "      <td>0.0</td>\n",
              "      <td>0.0</td>\n",
              "      <td>10800.0</td>\n",
              "    </tr>\n",
              "    <tr>\n",
              "      <th>8</th>\n",
              "      <td>0.0</td>\n",
              "      <td>517.09999</td>\n",
              "      <td>0</td>\n",
              "      <td>9</td>\n",
              "      <td>5.005</td>\n",
              "      <td>5.5</td>\n",
              "      <td>2023</td>\n",
              "      <td>8</td>\n",
              "      <td>14</td>\n",
              "      <td>3</td>\n",
              "      <td>10</td>\n",
              "      <td>0</td>\n",
              "      <td>1</td>\n",
              "      <td>0</td>\n",
              "      <td>0</td>\n",
              "      <td>3</td>\n",
              "      <td>2</td>\n",
              "      <td>0.0</td>\n",
              "      <td>0.0</td>\n",
              "      <td>11400.0</td>\n",
              "    </tr>\n",
              "    <tr>\n",
              "      <th>9</th>\n",
              "      <td>0.0</td>\n",
              "      <td>513.20001</td>\n",
              "      <td>0</td>\n",
              "      <td>9</td>\n",
              "      <td>5.005</td>\n",
              "      <td>5.5</td>\n",
              "      <td>2023</td>\n",
              "      <td>8</td>\n",
              "      <td>14</td>\n",
              "      <td>3</td>\n",
              "      <td>20</td>\n",
              "      <td>0</td>\n",
              "      <td>1</td>\n",
              "      <td>0</td>\n",
              "      <td>0</td>\n",
              "      <td>3</td>\n",
              "      <td>2</td>\n",
              "      <td>0.0</td>\n",
              "      <td>0.0</td>\n",
              "      <td>12000.0</td>\n",
              "    </tr>\n",
              "    <tr>\n",
              "      <th>10</th>\n",
              "      <td>0.0</td>\n",
              "      <td>508.00000</td>\n",
              "      <td>0</td>\n",
              "      <td>9</td>\n",
              "      <td>5.005</td>\n",
              "      <td>5.5</td>\n",
              "      <td>2023</td>\n",
              "      <td>8</td>\n",
              "      <td>14</td>\n",
              "      <td>3</td>\n",
              "      <td>30</td>\n",
              "      <td>0</td>\n",
              "      <td>1</td>\n",
              "      <td>0</td>\n",
              "      <td>0</td>\n",
              "      <td>3</td>\n",
              "      <td>2</td>\n",
              "      <td>0.0</td>\n",
              "      <td>0.0</td>\n",
              "      <td>12600.0</td>\n",
              "    </tr>\n",
              "    <tr>\n",
              "      <th>11</th>\n",
              "      <td>0.0</td>\n",
              "      <td>512.30000</td>\n",
              "      <td>0</td>\n",
              "      <td>9</td>\n",
              "      <td>5.005</td>\n",
              "      <td>5.5</td>\n",
              "      <td>2023</td>\n",
              "      <td>8</td>\n",
              "      <td>14</td>\n",
              "      <td>3</td>\n",
              "      <td>40</td>\n",
              "      <td>0</td>\n",
              "      <td>1</td>\n",
              "      <td>0</td>\n",
              "      <td>0</td>\n",
              "      <td>3</td>\n",
              "      <td>2</td>\n",
              "      <td>0.0</td>\n",
              "      <td>0.0</td>\n",
              "      <td>13200.0</td>\n",
              "    </tr>\n",
              "    <tr>\n",
              "      <th>12</th>\n",
              "      <td>0.0</td>\n",
              "      <td>516.40000</td>\n",
              "      <td>0</td>\n",
              "      <td>9</td>\n",
              "      <td>5.005</td>\n",
              "      <td>5.5</td>\n",
              "      <td>2023</td>\n",
              "      <td>8</td>\n",
              "      <td>14</td>\n",
              "      <td>3</td>\n",
              "      <td>50</td>\n",
              "      <td>0</td>\n",
              "      <td>1</td>\n",
              "      <td>0</td>\n",
              "      <td>0</td>\n",
              "      <td>3</td>\n",
              "      <td>2</td>\n",
              "      <td>0.0</td>\n",
              "      <td>0.0</td>\n",
              "      <td>13800.0</td>\n",
              "    </tr>\n",
              "    <tr>\n",
              "      <th>13</th>\n",
              "      <td>0.0</td>\n",
              "      <td>522.00000</td>\n",
              "      <td>0</td>\n",
              "      <td>9</td>\n",
              "      <td>5.005</td>\n",
              "      <td>5.5</td>\n",
              "      <td>2023</td>\n",
              "      <td>8</td>\n",
              "      <td>14</td>\n",
              "      <td>4</td>\n",
              "      <td>0</td>\n",
              "      <td>0</td>\n",
              "      <td>1</td>\n",
              "      <td>0</td>\n",
              "      <td>0</td>\n",
              "      <td>3</td>\n",
              "      <td>2</td>\n",
              "      <td>0.0</td>\n",
              "      <td>0.0</td>\n",
              "      <td>14400.0</td>\n",
              "    </tr>\n",
              "    <tr>\n",
              "      <th>14</th>\n",
              "      <td>0.0</td>\n",
              "      <td>516.30000</td>\n",
              "      <td>0</td>\n",
              "      <td>9</td>\n",
              "      <td>5.005</td>\n",
              "      <td>5.5</td>\n",
              "      <td>2023</td>\n",
              "      <td>8</td>\n",
              "      <td>14</td>\n",
              "      <td>4</td>\n",
              "      <td>10</td>\n",
              "      <td>0</td>\n",
              "      <td>1</td>\n",
              "      <td>0</td>\n",
              "      <td>0</td>\n",
              "      <td>3</td>\n",
              "      <td>2</td>\n",
              "      <td>0.0</td>\n",
              "      <td>0.0</td>\n",
              "      <td>15000.0</td>\n",
              "    </tr>\n",
              "    <tr>\n",
              "      <th>15</th>\n",
              "      <td>0.0</td>\n",
              "      <td>521.00000</td>\n",
              "      <td>0</td>\n",
              "      <td>9</td>\n",
              "      <td>5.005</td>\n",
              "      <td>5.5</td>\n",
              "      <td>2023</td>\n",
              "      <td>8</td>\n",
              "      <td>14</td>\n",
              "      <td>4</td>\n",
              "      <td>20</td>\n",
              "      <td>0</td>\n",
              "      <td>1</td>\n",
              "      <td>0</td>\n",
              "      <td>0</td>\n",
              "      <td>3</td>\n",
              "      <td>2</td>\n",
              "      <td>0.0</td>\n",
              "      <td>0.0</td>\n",
              "      <td>15600.0</td>\n",
              "    </tr>\n",
              "    <tr>\n",
              "      <th>16</th>\n",
              "      <td>0.0</td>\n",
              "      <td>514.44445</td>\n",
              "      <td>0</td>\n",
              "      <td>9</td>\n",
              "      <td>5.005</td>\n",
              "      <td>5.5</td>\n",
              "      <td>2023</td>\n",
              "      <td>8</td>\n",
              "      <td>14</td>\n",
              "      <td>4</td>\n",
              "      <td>30</td>\n",
              "      <td>0</td>\n",
              "      <td>1</td>\n",
              "      <td>0</td>\n",
              "      <td>0</td>\n",
              "      <td>3</td>\n",
              "      <td>2</td>\n",
              "      <td>0.0</td>\n",
              "      <td>0.0</td>\n",
              "      <td>16200.0</td>\n",
              "    </tr>\n",
              "    <tr>\n",
              "      <th>17</th>\n",
              "      <td>0.0</td>\n",
              "      <td>511.59999</td>\n",
              "      <td>0</td>\n",
              "      <td>9</td>\n",
              "      <td>5.005</td>\n",
              "      <td>5.5</td>\n",
              "      <td>2023</td>\n",
              "      <td>8</td>\n",
              "      <td>14</td>\n",
              "      <td>4</td>\n",
              "      <td>40</td>\n",
              "      <td>0</td>\n",
              "      <td>1</td>\n",
              "      <td>0</td>\n",
              "      <td>0</td>\n",
              "      <td>3</td>\n",
              "      <td>2</td>\n",
              "      <td>0.0</td>\n",
              "      <td>0.0</td>\n",
              "      <td>16800.0</td>\n",
              "    </tr>\n",
              "    <tr>\n",
              "      <th>18</th>\n",
              "      <td>0.0</td>\n",
              "      <td>517.09999</td>\n",
              "      <td>0</td>\n",
              "      <td>9</td>\n",
              "      <td>5.005</td>\n",
              "      <td>5.5</td>\n",
              "      <td>2023</td>\n",
              "      <td>8</td>\n",
              "      <td>14</td>\n",
              "      <td>4</td>\n",
              "      <td>50</td>\n",
              "      <td>0</td>\n",
              "      <td>1</td>\n",
              "      <td>0</td>\n",
              "      <td>0</td>\n",
              "      <td>3</td>\n",
              "      <td>2</td>\n",
              "      <td>0.0</td>\n",
              "      <td>0.0</td>\n",
              "      <td>17400.0</td>\n",
              "    </tr>\n",
              "    <tr>\n",
              "      <th>19</th>\n",
              "      <td>0.0</td>\n",
              "      <td>518.77778</td>\n",
              "      <td>0</td>\n",
              "      <td>9</td>\n",
              "      <td>5.005</td>\n",
              "      <td>5.5</td>\n",
              "      <td>2023</td>\n",
              "      <td>8</td>\n",
              "      <td>14</td>\n",
              "      <td>5</td>\n",
              "      <td>0</td>\n",
              "      <td>0</td>\n",
              "      <td>1</td>\n",
              "      <td>0</td>\n",
              "      <td>0</td>\n",
              "      <td>0</td>\n",
              "      <td>2</td>\n",
              "      <td>0.0</td>\n",
              "      <td>0.0</td>\n",
              "      <td>18000.0</td>\n",
              "    </tr>\n",
              "  </tbody>\n",
              "</table>\n",
              "</div>\n",
              "    <div class=\"colab-df-buttons\">\n",
              "\n",
              "  <div class=\"colab-df-container\">\n",
              "    <button class=\"colab-df-convert\" onclick=\"convertToInteractive('df-f4d16d16-9fb1-42b6-b47e-3b79ce488c86')\"\n",
              "            title=\"Convert this dataframe to an interactive table.\"\n",
              "            style=\"display:none;\">\n",
              "\n",
              "  <svg xmlns=\"http://www.w3.org/2000/svg\" height=\"24px\" viewBox=\"0 -960 960 960\">\n",
              "    <path d=\"M120-120v-720h720v720H120Zm60-500h600v-160H180v160Zm220 220h160v-160H400v160Zm0 220h160v-160H400v160ZM180-400h160v-160H180v160Zm440 0h160v-160H620v160ZM180-180h160v-160H180v160Zm440 0h160v-160H620v160Z\"/>\n",
              "  </svg>\n",
              "    </button>\n",
              "\n",
              "  <style>\n",
              "    .colab-df-container {\n",
              "      display:flex;\n",
              "      gap: 12px;\n",
              "    }\n",
              "\n",
              "    .colab-df-convert {\n",
              "      background-color: #E8F0FE;\n",
              "      border: none;\n",
              "      border-radius: 50%;\n",
              "      cursor: pointer;\n",
              "      display: none;\n",
              "      fill: #1967D2;\n",
              "      height: 32px;\n",
              "      padding: 0 0 0 0;\n",
              "      width: 32px;\n",
              "    }\n",
              "\n",
              "    .colab-df-convert:hover {\n",
              "      background-color: #E2EBFA;\n",
              "      box-shadow: 0px 1px 2px rgba(60, 64, 67, 0.3), 0px 1px 3px 1px rgba(60, 64, 67, 0.15);\n",
              "      fill: #174EA6;\n",
              "    }\n",
              "\n",
              "    .colab-df-buttons div {\n",
              "      margin-bottom: 4px;\n",
              "    }\n",
              "\n",
              "    [theme=dark] .colab-df-convert {\n",
              "      background-color: #3B4455;\n",
              "      fill: #D2E3FC;\n",
              "    }\n",
              "\n",
              "    [theme=dark] .colab-df-convert:hover {\n",
              "      background-color: #434B5C;\n",
              "      box-shadow: 0px 1px 3px 1px rgba(0, 0, 0, 0.15);\n",
              "      filter: drop-shadow(0px 1px 2px rgba(0, 0, 0, 0.3));\n",
              "      fill: #FFFFFF;\n",
              "    }\n",
              "  </style>\n",
              "\n",
              "    <script>\n",
              "      const buttonEl =\n",
              "        document.querySelector('#df-f4d16d16-9fb1-42b6-b47e-3b79ce488c86 button.colab-df-convert');\n",
              "      buttonEl.style.display =\n",
              "        google.colab.kernel.accessAllowed ? 'block' : 'none';\n",
              "\n",
              "      async function convertToInteractive(key) {\n",
              "        const element = document.querySelector('#df-f4d16d16-9fb1-42b6-b47e-3b79ce488c86');\n",
              "        const dataTable =\n",
              "          await google.colab.kernel.invokeFunction('convertToInteractive',\n",
              "                                                    [key], {});\n",
              "        if (!dataTable) return;\n",
              "\n",
              "        const docLinkHtml = 'Like what you see? Visit the ' +\n",
              "          '<a target=\"_blank\" href=https://colab.research.google.com/notebooks/data_table.ipynb>data table notebook</a>'\n",
              "          + ' to learn more about interactive tables.';\n",
              "        element.innerHTML = '';\n",
              "        dataTable['output_type'] = 'display_data';\n",
              "        await google.colab.output.renderOutput(dataTable, element);\n",
              "        const docLink = document.createElement('div');\n",
              "        docLink.innerHTML = docLinkHtml;\n",
              "        element.appendChild(docLink);\n",
              "      }\n",
              "    </script>\n",
              "  </div>\n",
              "\n",
              "\n",
              "<div id=\"df-c47523bd-3201-4b15-8c55-b4eb44993385\">\n",
              "  <button class=\"colab-df-quickchart\" onclick=\"quickchart('df-c47523bd-3201-4b15-8c55-b4eb44993385')\"\n",
              "            title=\"Suggest charts\"\n",
              "            style=\"display:none;\">\n",
              "\n",
              "<svg xmlns=\"http://www.w3.org/2000/svg\" height=\"24px\"viewBox=\"0 0 24 24\"\n",
              "     width=\"24px\">\n",
              "    <g>\n",
              "        <path d=\"M19 3H5c-1.1 0-2 .9-2 2v14c0 1.1.9 2 2 2h14c1.1 0 2-.9 2-2V5c0-1.1-.9-2-2-2zM9 17H7v-7h2v7zm4 0h-2V7h2v10zm4 0h-2v-4h2v4z\"/>\n",
              "    </g>\n",
              "</svg>\n",
              "  </button>\n",
              "\n",
              "<style>\n",
              "  .colab-df-quickchart {\n",
              "      --bg-color: #E8F0FE;\n",
              "      --fill-color: #1967D2;\n",
              "      --hover-bg-color: #E2EBFA;\n",
              "      --hover-fill-color: #174EA6;\n",
              "      --disabled-fill-color: #AAA;\n",
              "      --disabled-bg-color: #DDD;\n",
              "  }\n",
              "\n",
              "  [theme=dark] .colab-df-quickchart {\n",
              "      --bg-color: #3B4455;\n",
              "      --fill-color: #D2E3FC;\n",
              "      --hover-bg-color: #434B5C;\n",
              "      --hover-fill-color: #FFFFFF;\n",
              "      --disabled-bg-color: #3B4455;\n",
              "      --disabled-fill-color: #666;\n",
              "  }\n",
              "\n",
              "  .colab-df-quickchart {\n",
              "    background-color: var(--bg-color);\n",
              "    border: none;\n",
              "    border-radius: 50%;\n",
              "    cursor: pointer;\n",
              "    display: none;\n",
              "    fill: var(--fill-color);\n",
              "    height: 32px;\n",
              "    padding: 0;\n",
              "    width: 32px;\n",
              "  }\n",
              "\n",
              "  .colab-df-quickchart:hover {\n",
              "    background-color: var(--hover-bg-color);\n",
              "    box-shadow: 0 1px 2px rgba(60, 64, 67, 0.3), 0 1px 3px 1px rgba(60, 64, 67, 0.15);\n",
              "    fill: var(--button-hover-fill-color);\n",
              "  }\n",
              "\n",
              "  .colab-df-quickchart-complete:disabled,\n",
              "  .colab-df-quickchart-complete:disabled:hover {\n",
              "    background-color: var(--disabled-bg-color);\n",
              "    fill: var(--disabled-fill-color);\n",
              "    box-shadow: none;\n",
              "  }\n",
              "\n",
              "  .colab-df-spinner {\n",
              "    border: 2px solid var(--fill-color);\n",
              "    border-color: transparent;\n",
              "    border-bottom-color: var(--fill-color);\n",
              "    animation:\n",
              "      spin 1s steps(1) infinite;\n",
              "  }\n",
              "\n",
              "  @keyframes spin {\n",
              "    0% {\n",
              "      border-color: transparent;\n",
              "      border-bottom-color: var(--fill-color);\n",
              "      border-left-color: var(--fill-color);\n",
              "    }\n",
              "    20% {\n",
              "      border-color: transparent;\n",
              "      border-left-color: var(--fill-color);\n",
              "      border-top-color: var(--fill-color);\n",
              "    }\n",
              "    30% {\n",
              "      border-color: transparent;\n",
              "      border-left-color: var(--fill-color);\n",
              "      border-top-color: var(--fill-color);\n",
              "      border-right-color: var(--fill-color);\n",
              "    }\n",
              "    40% {\n",
              "      border-color: transparent;\n",
              "      border-right-color: var(--fill-color);\n",
              "      border-top-color: var(--fill-color);\n",
              "    }\n",
              "    60% {\n",
              "      border-color: transparent;\n",
              "      border-right-color: var(--fill-color);\n",
              "    }\n",
              "    80% {\n",
              "      border-color: transparent;\n",
              "      border-right-color: var(--fill-color);\n",
              "      border-bottom-color: var(--fill-color);\n",
              "    }\n",
              "    90% {\n",
              "      border-color: transparent;\n",
              "      border-bottom-color: var(--fill-color);\n",
              "    }\n",
              "  }\n",
              "</style>\n",
              "\n",
              "  <script>\n",
              "    async function quickchart(key) {\n",
              "      const quickchartButtonEl =\n",
              "        document.querySelector('#' + key + ' button');\n",
              "      quickchartButtonEl.disabled = true;  // To prevent multiple clicks.\n",
              "      quickchartButtonEl.classList.add('colab-df-spinner');\n",
              "      try {\n",
              "        const charts = await google.colab.kernel.invokeFunction(\n",
              "            'suggestCharts', [key], {});\n",
              "      } catch (error) {\n",
              "        console.error('Error during call to suggestCharts:', error);\n",
              "      }\n",
              "      quickchartButtonEl.classList.remove('colab-df-spinner');\n",
              "      quickchartButtonEl.classList.add('colab-df-quickchart-complete');\n",
              "    }\n",
              "    (() => {\n",
              "      let quickchartButtonEl =\n",
              "        document.querySelector('#df-c47523bd-3201-4b15-8c55-b4eb44993385 button');\n",
              "      quickchartButtonEl.style.display =\n",
              "        google.colab.kernel.accessAllowed ? 'block' : 'none';\n",
              "    })();\n",
              "  </script>\n",
              "</div>\n",
              "\n",
              "    </div>\n",
              "  </div>\n"
            ],
            "application/vnd.google.colaboratory.intrinsic+json": {
              "type": "dataframe",
              "variable_name": "final_df"
            }
          },
          "metadata": {},
          "execution_count": 39
        }
      ],
      "source": [
        "# importing necessary libraries\n",
        "import pandas as pd\n",
        "final_df=pd.read_csv('/content/drive/MyDrive/asad123/filer (1).csv')\n",
        "# final_df.drop(['time_since_start' ,'time_standard',\t'peak_production',\t'day_of_week'\t,'is_weekend',\t'time_of_day'\t,'season'\t,'generation_W_rolling_mean_1h'\t,'generation_to_capacity_ratio'],inplace=True,axis=1)\n",
        "final_df.head(20)"
      ]
    },
    {
      "cell_type": "code",
      "source": [
        "f.shape"
      ],
      "metadata": {
        "colab": {
          "base_uri": "https://localhost:8080/"
        },
        "id": "-PvkLfeTdIu6",
        "outputId": "76de3586-0aab-4ed5-c86f-88cd9da61807"
      },
      "execution_count": null,
      "outputs": [
        {
          "output_type": "execute_result",
          "data": {
            "text/plain": [
              "(3686726, 4)"
            ]
          },
          "metadata": {},
          "execution_count": 10
        }
      ]
    },
    {
      "cell_type": "code",
      "source": [
        "import pandas as pd\n",
        "f=pd.read_csv('/content/drive/MyDrive/task1/train_data.csv')\n",
        "j=pd.read_csv('/content/drive/MyDrive/task1/systems_new.csv')\n",
        "# Assuming 'system_id' also exists in the right DataFrame ('j')\n",
        "c=merged_df = pd.merge(f, j, on='system_id', how='inner')\n",
        "# Alternatively, if you want to join on the index of 'j':\n",
        "# c=pd.merge(f,j,left_on='system_id', right_index=True, how='inner')\n",
        "\n"
      ],
      "metadata": {
        "id": "TFSScwqBahJC"
      },
      "execution_count": null,
      "outputs": []
    },
    {
      "cell_type": "code",
      "source": [
        "c.drop('timestamp',axis=1,inplace=True)"
      ],
      "metadata": {
        "id": "oWDMWg68h4Y8"
      },
      "execution_count": null,
      "outputs": []
    },
    {
      "cell_type": "code",
      "source": [],
      "metadata": {
        "id": "dJTzFpTtw5Ta"
      },
      "execution_count": null,
      "outputs": []
    },
    {
      "cell_type": "markdown",
      "source": [
        "# Handling Some scaler issues"
      ],
      "metadata": {
        "id": "pu84L3eCw6Md"
      }
    },
    {
      "cell_type": "code",
      "source": [
        "import pandas as pd\n",
        "# ... (your existing code to create 'c' DataFrame)\n",
        "\n",
        "new_row = {'system_id': 2, 'generation_W': 0, 'load_W': 300.23, 'connection_type':'COMMERCIAL', 'location':'SHEIKHUPURA', 'panels_capacity':545, 'load_capacity':234}\n",
        "# system_id timestamp   generation_W    load_W  connection_type location    panels_capacity load_capacity\n",
        "\n",
        "# Use pd.concat instead of append\n",
        "c.loc[len(c.index)] = new_row\n",
        "\n",
        "from sklearn.preprocessing import LabelEncoder\n",
        "scaler1=LabelEncoder()\n",
        "scaler2=LabelEncoder()\n",
        "c['connection_type']=scaler1.fit_transform(c['connection_type'])\n",
        "c['location']=scaler2.fit_transform(c['location'])"
      ],
      "metadata": {
        "id": "rdhS4LdAh27A"
      },
      "execution_count": null,
      "outputs": []
    },
    {
      "cell_type": "code",
      "source": [
        "c['location'] = c['location'].replace('ABBOTTABAD', 'ISLAMABAD')"
      ],
      "metadata": {
        "id": "niIjgnu2jPnR"
      },
      "execution_count": null,
      "outputs": []
    },
    {
      "cell_type": "code",
      "source": [
        "c['status'] = c['status'].replace('', 'Completed')"
      ],
      "metadata": {
        "id": "JI7vTSs1eYHr"
      },
      "execution_count": null,
      "outputs": []
    },
    {
      "cell_type": "markdown",
      "source": [],
      "metadata": {
        "id": "WEyzlLI-lis7"
      }
    },
    {
      "cell_type": "code",
      "source": [
        "c"
      ],
      "metadata": {
        "colab": {
          "base_uri": "https://localhost:8080/",
          "height": 756
        },
        "id": "nuJQKgVwjFQW",
        "outputId": "dc058738-9538-409e-8486-09ba2add5830"
      },
      "execution_count": null,
      "outputs": [
        {
          "output_type": "execute_result",
          "data": {
            "text/plain": [
              "         system_id            timestamp  generation_W       load_W  \\\n",
              "0               17  2023-08-14 01:50:00       0.00000    525.66667   \n",
              "1               17  2023-08-14 02:00:00       0.00000    518.90000   \n",
              "2               17  2023-08-14 02:10:00       0.00000    528.50001   \n",
              "3               17  2023-08-14 02:20:00       0.00000    517.99999   \n",
              "4               17  2023-08-14 02:30:00       0.00000    520.90001   \n",
              "...            ...                  ...           ...          ...   \n",
              "3845824         57  2024-08-09 07:40:00    3510.99999   8843.46429   \n",
              "3845825         57  2024-08-09 07:50:00    3689.99999   8262.64100   \n",
              "3845826         57  2024-08-09 08:00:00    3868.62502  10244.71429   \n",
              "3845827         57  2024-08-09 08:10:00    3981.84613   8310.77777   \n",
              "3845828          2                  NaN       0.00000    300.23000   \n",
              "\n",
              "         connection_type  location  panels_capacity  load_capacity  \n",
              "0                      0         9            5.005            5.5  \n",
              "1                      0         9            5.005            5.5  \n",
              "2                      0         9            5.005            5.5  \n",
              "3                      0         9            5.005            5.5  \n",
              "4                      0         9            5.005            5.5  \n",
              "...                  ...       ...              ...            ...  \n",
              "3845824                0         6           19.800           20.0  \n",
              "3845825                0         6           19.800           20.0  \n",
              "3845826                0         6           19.800           20.0  \n",
              "3845827                0         6           19.800           20.0  \n",
              "3845828                0        15          545.000          234.0  \n",
              "\n",
              "[3845829 rows x 8 columns]"
            ],
            "text/html": [
              "\n",
              "  <div id=\"df-358d65e2-d3a5-4449-b980-857b38dd6591\" class=\"colab-df-container\">\n",
              "    <div>\n",
              "<style scoped>\n",
              "    .dataframe tbody tr th:only-of-type {\n",
              "        vertical-align: middle;\n",
              "    }\n",
              "\n",
              "    .dataframe tbody tr th {\n",
              "        vertical-align: top;\n",
              "    }\n",
              "\n",
              "    .dataframe thead th {\n",
              "        text-align: right;\n",
              "    }\n",
              "</style>\n",
              "<table border=\"1\" class=\"dataframe\">\n",
              "  <thead>\n",
              "    <tr style=\"text-align: right;\">\n",
              "      <th></th>\n",
              "      <th>system_id</th>\n",
              "      <th>timestamp</th>\n",
              "      <th>generation_W</th>\n",
              "      <th>load_W</th>\n",
              "      <th>connection_type</th>\n",
              "      <th>location</th>\n",
              "      <th>panels_capacity</th>\n",
              "      <th>load_capacity</th>\n",
              "    </tr>\n",
              "  </thead>\n",
              "  <tbody>\n",
              "    <tr>\n",
              "      <th>0</th>\n",
              "      <td>17</td>\n",
              "      <td>2023-08-14 01:50:00</td>\n",
              "      <td>0.00000</td>\n",
              "      <td>525.66667</td>\n",
              "      <td>0</td>\n",
              "      <td>9</td>\n",
              "      <td>5.005</td>\n",
              "      <td>5.5</td>\n",
              "    </tr>\n",
              "    <tr>\n",
              "      <th>1</th>\n",
              "      <td>17</td>\n",
              "      <td>2023-08-14 02:00:00</td>\n",
              "      <td>0.00000</td>\n",
              "      <td>518.90000</td>\n",
              "      <td>0</td>\n",
              "      <td>9</td>\n",
              "      <td>5.005</td>\n",
              "      <td>5.5</td>\n",
              "    </tr>\n",
              "    <tr>\n",
              "      <th>2</th>\n",
              "      <td>17</td>\n",
              "      <td>2023-08-14 02:10:00</td>\n",
              "      <td>0.00000</td>\n",
              "      <td>528.50001</td>\n",
              "      <td>0</td>\n",
              "      <td>9</td>\n",
              "      <td>5.005</td>\n",
              "      <td>5.5</td>\n",
              "    </tr>\n",
              "    <tr>\n",
              "      <th>3</th>\n",
              "      <td>17</td>\n",
              "      <td>2023-08-14 02:20:00</td>\n",
              "      <td>0.00000</td>\n",
              "      <td>517.99999</td>\n",
              "      <td>0</td>\n",
              "      <td>9</td>\n",
              "      <td>5.005</td>\n",
              "      <td>5.5</td>\n",
              "    </tr>\n",
              "    <tr>\n",
              "      <th>4</th>\n",
              "      <td>17</td>\n",
              "      <td>2023-08-14 02:30:00</td>\n",
              "      <td>0.00000</td>\n",
              "      <td>520.90001</td>\n",
              "      <td>0</td>\n",
              "      <td>9</td>\n",
              "      <td>5.005</td>\n",
              "      <td>5.5</td>\n",
              "    </tr>\n",
              "    <tr>\n",
              "      <th>...</th>\n",
              "      <td>...</td>\n",
              "      <td>...</td>\n",
              "      <td>...</td>\n",
              "      <td>...</td>\n",
              "      <td>...</td>\n",
              "      <td>...</td>\n",
              "      <td>...</td>\n",
              "      <td>...</td>\n",
              "    </tr>\n",
              "    <tr>\n",
              "      <th>3845824</th>\n",
              "      <td>57</td>\n",
              "      <td>2024-08-09 07:40:00</td>\n",
              "      <td>3510.99999</td>\n",
              "      <td>8843.46429</td>\n",
              "      <td>0</td>\n",
              "      <td>6</td>\n",
              "      <td>19.800</td>\n",
              "      <td>20.0</td>\n",
              "    </tr>\n",
              "    <tr>\n",
              "      <th>3845825</th>\n",
              "      <td>57</td>\n",
              "      <td>2024-08-09 07:50:00</td>\n",
              "      <td>3689.99999</td>\n",
              "      <td>8262.64100</td>\n",
              "      <td>0</td>\n",
              "      <td>6</td>\n",
              "      <td>19.800</td>\n",
              "      <td>20.0</td>\n",
              "    </tr>\n",
              "    <tr>\n",
              "      <th>3845826</th>\n",
              "      <td>57</td>\n",
              "      <td>2024-08-09 08:00:00</td>\n",
              "      <td>3868.62502</td>\n",
              "      <td>10244.71429</td>\n",
              "      <td>0</td>\n",
              "      <td>6</td>\n",
              "      <td>19.800</td>\n",
              "      <td>20.0</td>\n",
              "    </tr>\n",
              "    <tr>\n",
              "      <th>3845827</th>\n",
              "      <td>57</td>\n",
              "      <td>2024-08-09 08:10:00</td>\n",
              "      <td>3981.84613</td>\n",
              "      <td>8310.77777</td>\n",
              "      <td>0</td>\n",
              "      <td>6</td>\n",
              "      <td>19.800</td>\n",
              "      <td>20.0</td>\n",
              "    </tr>\n",
              "    <tr>\n",
              "      <th>3845828</th>\n",
              "      <td>2</td>\n",
              "      <td>NaN</td>\n",
              "      <td>0.00000</td>\n",
              "      <td>300.23000</td>\n",
              "      <td>0</td>\n",
              "      <td>15</td>\n",
              "      <td>545.000</td>\n",
              "      <td>234.0</td>\n",
              "    </tr>\n",
              "  </tbody>\n",
              "</table>\n",
              "<p>3845829 rows × 8 columns</p>\n",
              "</div>\n",
              "    <div class=\"colab-df-buttons\">\n",
              "\n",
              "  <div class=\"colab-df-container\">\n",
              "    <button class=\"colab-df-convert\" onclick=\"convertToInteractive('df-358d65e2-d3a5-4449-b980-857b38dd6591')\"\n",
              "            title=\"Convert this dataframe to an interactive table.\"\n",
              "            style=\"display:none;\">\n",
              "\n",
              "  <svg xmlns=\"http://www.w3.org/2000/svg\" height=\"24px\" viewBox=\"0 -960 960 960\">\n",
              "    <path d=\"M120-120v-720h720v720H120Zm60-500h600v-160H180v160Zm220 220h160v-160H400v160Zm0 220h160v-160H400v160ZM180-400h160v-160H180v160Zm440 0h160v-160H620v160ZM180-180h160v-160H180v160Zm440 0h160v-160H620v160Z\"/>\n",
              "  </svg>\n",
              "    </button>\n",
              "\n",
              "  <style>\n",
              "    .colab-df-container {\n",
              "      display:flex;\n",
              "      gap: 12px;\n",
              "    }\n",
              "\n",
              "    .colab-df-convert {\n",
              "      background-color: #E8F0FE;\n",
              "      border: none;\n",
              "      border-radius: 50%;\n",
              "      cursor: pointer;\n",
              "      display: none;\n",
              "      fill: #1967D2;\n",
              "      height: 32px;\n",
              "      padding: 0 0 0 0;\n",
              "      width: 32px;\n",
              "    }\n",
              "\n",
              "    .colab-df-convert:hover {\n",
              "      background-color: #E2EBFA;\n",
              "      box-shadow: 0px 1px 2px rgba(60, 64, 67, 0.3), 0px 1px 3px 1px rgba(60, 64, 67, 0.15);\n",
              "      fill: #174EA6;\n",
              "    }\n",
              "\n",
              "    .colab-df-buttons div {\n",
              "      margin-bottom: 4px;\n",
              "    }\n",
              "\n",
              "    [theme=dark] .colab-df-convert {\n",
              "      background-color: #3B4455;\n",
              "      fill: #D2E3FC;\n",
              "    }\n",
              "\n",
              "    [theme=dark] .colab-df-convert:hover {\n",
              "      background-color: #434B5C;\n",
              "      box-shadow: 0px 1px 3px 1px rgba(0, 0, 0, 0.15);\n",
              "      filter: drop-shadow(0px 1px 2px rgba(0, 0, 0, 0.3));\n",
              "      fill: #FFFFFF;\n",
              "    }\n",
              "  </style>\n",
              "\n",
              "    <script>\n",
              "      const buttonEl =\n",
              "        document.querySelector('#df-358d65e2-d3a5-4449-b980-857b38dd6591 button.colab-df-convert');\n",
              "      buttonEl.style.display =\n",
              "        google.colab.kernel.accessAllowed ? 'block' : 'none';\n",
              "\n",
              "      async function convertToInteractive(key) {\n",
              "        const element = document.querySelector('#df-358d65e2-d3a5-4449-b980-857b38dd6591');\n",
              "        const dataTable =\n",
              "          await google.colab.kernel.invokeFunction('convertToInteractive',\n",
              "                                                    [key], {});\n",
              "        if (!dataTable) return;\n",
              "\n",
              "        const docLinkHtml = 'Like what you see? Visit the ' +\n",
              "          '<a target=\"_blank\" href=https://colab.research.google.com/notebooks/data_table.ipynb>data table notebook</a>'\n",
              "          + ' to learn more about interactive tables.';\n",
              "        element.innerHTML = '';\n",
              "        dataTable['output_type'] = 'display_data';\n",
              "        await google.colab.output.renderOutput(dataTable, element);\n",
              "        const docLink = document.createElement('div');\n",
              "        docLink.innerHTML = docLinkHtml;\n",
              "        element.appendChild(docLink);\n",
              "      }\n",
              "    </script>\n",
              "  </div>\n",
              "\n",
              "\n",
              "<div id=\"df-06fba8ca-e4e7-4816-9419-265548250e3f\">\n",
              "  <button class=\"colab-df-quickchart\" onclick=\"quickchart('df-06fba8ca-e4e7-4816-9419-265548250e3f')\"\n",
              "            title=\"Suggest charts\"\n",
              "            style=\"display:none;\">\n",
              "\n",
              "<svg xmlns=\"http://www.w3.org/2000/svg\" height=\"24px\"viewBox=\"0 0 24 24\"\n",
              "     width=\"24px\">\n",
              "    <g>\n",
              "        <path d=\"M19 3H5c-1.1 0-2 .9-2 2v14c0 1.1.9 2 2 2h14c1.1 0 2-.9 2-2V5c0-1.1-.9-2-2-2zM9 17H7v-7h2v7zm4 0h-2V7h2v10zm4 0h-2v-4h2v4z\"/>\n",
              "    </g>\n",
              "</svg>\n",
              "  </button>\n",
              "\n",
              "<style>\n",
              "  .colab-df-quickchart {\n",
              "      --bg-color: #E8F0FE;\n",
              "      --fill-color: #1967D2;\n",
              "      --hover-bg-color: #E2EBFA;\n",
              "      --hover-fill-color: #174EA6;\n",
              "      --disabled-fill-color: #AAA;\n",
              "      --disabled-bg-color: #DDD;\n",
              "  }\n",
              "\n",
              "  [theme=dark] .colab-df-quickchart {\n",
              "      --bg-color: #3B4455;\n",
              "      --fill-color: #D2E3FC;\n",
              "      --hover-bg-color: #434B5C;\n",
              "      --hover-fill-color: #FFFFFF;\n",
              "      --disabled-bg-color: #3B4455;\n",
              "      --disabled-fill-color: #666;\n",
              "  }\n",
              "\n",
              "  .colab-df-quickchart {\n",
              "    background-color: var(--bg-color);\n",
              "    border: none;\n",
              "    border-radius: 50%;\n",
              "    cursor: pointer;\n",
              "    display: none;\n",
              "    fill: var(--fill-color);\n",
              "    height: 32px;\n",
              "    padding: 0;\n",
              "    width: 32px;\n",
              "  }\n",
              "\n",
              "  .colab-df-quickchart:hover {\n",
              "    background-color: var(--hover-bg-color);\n",
              "    box-shadow: 0 1px 2px rgba(60, 64, 67, 0.3), 0 1px 3px 1px rgba(60, 64, 67, 0.15);\n",
              "    fill: var(--button-hover-fill-color);\n",
              "  }\n",
              "\n",
              "  .colab-df-quickchart-complete:disabled,\n",
              "  .colab-df-quickchart-complete:disabled:hover {\n",
              "    background-color: var(--disabled-bg-color);\n",
              "    fill: var(--disabled-fill-color);\n",
              "    box-shadow: none;\n",
              "  }\n",
              "\n",
              "  .colab-df-spinner {\n",
              "    border: 2px solid var(--fill-color);\n",
              "    border-color: transparent;\n",
              "    border-bottom-color: var(--fill-color);\n",
              "    animation:\n",
              "      spin 1s steps(1) infinite;\n",
              "  }\n",
              "\n",
              "  @keyframes spin {\n",
              "    0% {\n",
              "      border-color: transparent;\n",
              "      border-bottom-color: var(--fill-color);\n",
              "      border-left-color: var(--fill-color);\n",
              "    }\n",
              "    20% {\n",
              "      border-color: transparent;\n",
              "      border-left-color: var(--fill-color);\n",
              "      border-top-color: var(--fill-color);\n",
              "    }\n",
              "    30% {\n",
              "      border-color: transparent;\n",
              "      border-left-color: var(--fill-color);\n",
              "      border-top-color: var(--fill-color);\n",
              "      border-right-color: var(--fill-color);\n",
              "    }\n",
              "    40% {\n",
              "      border-color: transparent;\n",
              "      border-right-color: var(--fill-color);\n",
              "      border-top-color: var(--fill-color);\n",
              "    }\n",
              "    60% {\n",
              "      border-color: transparent;\n",
              "      border-right-color: var(--fill-color);\n",
              "    }\n",
              "    80% {\n",
              "      border-color: transparent;\n",
              "      border-right-color: var(--fill-color);\n",
              "      border-bottom-color: var(--fill-color);\n",
              "    }\n",
              "    90% {\n",
              "      border-color: transparent;\n",
              "      border-bottom-color: var(--fill-color);\n",
              "    }\n",
              "  }\n",
              "</style>\n",
              "\n",
              "  <script>\n",
              "    async function quickchart(key) {\n",
              "      const quickchartButtonEl =\n",
              "        document.querySelector('#' + key + ' button');\n",
              "      quickchartButtonEl.disabled = true;  // To prevent multiple clicks.\n",
              "      quickchartButtonEl.classList.add('colab-df-spinner');\n",
              "      try {\n",
              "        const charts = await google.colab.kernel.invokeFunction(\n",
              "            'suggestCharts', [key], {});\n",
              "      } catch (error) {\n",
              "        console.error('Error during call to suggestCharts:', error);\n",
              "      }\n",
              "      quickchartButtonEl.classList.remove('colab-df-spinner');\n",
              "      quickchartButtonEl.classList.add('colab-df-quickchart-complete');\n",
              "    }\n",
              "    (() => {\n",
              "      let quickchartButtonEl =\n",
              "        document.querySelector('#df-06fba8ca-e4e7-4816-9419-265548250e3f button');\n",
              "      quickchartButtonEl.style.display =\n",
              "        google.colab.kernel.accessAllowed ? 'block' : 'none';\n",
              "    })();\n",
              "  </script>\n",
              "</div>\n",
              "\n",
              "  <div id=\"id_335d2e0a-18dd-4e4d-b5a7-754303cca036\">\n",
              "    <style>\n",
              "      .colab-df-generate {\n",
              "        background-color: #E8F0FE;\n",
              "        border: none;\n",
              "        border-radius: 50%;\n",
              "        cursor: pointer;\n",
              "        display: none;\n",
              "        fill: #1967D2;\n",
              "        height: 32px;\n",
              "        padding: 0 0 0 0;\n",
              "        width: 32px;\n",
              "      }\n",
              "\n",
              "      .colab-df-generate:hover {\n",
              "        background-color: #E2EBFA;\n",
              "        box-shadow: 0px 1px 2px rgba(60, 64, 67, 0.3), 0px 1px 3px 1px rgba(60, 64, 67, 0.15);\n",
              "        fill: #174EA6;\n",
              "      }\n",
              "\n",
              "      [theme=dark] .colab-df-generate {\n",
              "        background-color: #3B4455;\n",
              "        fill: #D2E3FC;\n",
              "      }\n",
              "\n",
              "      [theme=dark] .colab-df-generate:hover {\n",
              "        background-color: #434B5C;\n",
              "        box-shadow: 0px 1px 3px 1px rgba(0, 0, 0, 0.15);\n",
              "        filter: drop-shadow(0px 1px 2px rgba(0, 0, 0, 0.3));\n",
              "        fill: #FFFFFF;\n",
              "      }\n",
              "    </style>\n",
              "    <button class=\"colab-df-generate\" onclick=\"generateWithVariable('c')\"\n",
              "            title=\"Generate code using this dataframe.\"\n",
              "            style=\"display:none;\">\n",
              "\n",
              "  <svg xmlns=\"http://www.w3.org/2000/svg\" height=\"24px\"viewBox=\"0 0 24 24\"\n",
              "       width=\"24px\">\n",
              "    <path d=\"M7,19H8.4L18.45,9,17,7.55,7,17.6ZM5,21V16.75L18.45,3.32a2,2,0,0,1,2.83,0l1.4,1.43a1.91,1.91,0,0,1,.58,1.4,1.91,1.91,0,0,1-.58,1.4L9.25,21ZM18.45,9,17,7.55Zm-12,3A5.31,5.31,0,0,0,4.9,8.1,5.31,5.31,0,0,0,1,6.5,5.31,5.31,0,0,0,4.9,4.9,5.31,5.31,0,0,0,6.5,1,5.31,5.31,0,0,0,8.1,4.9,5.31,5.31,0,0,0,12,6.5,5.46,5.46,0,0,0,6.5,12Z\"/>\n",
              "  </svg>\n",
              "    </button>\n",
              "    <script>\n",
              "      (() => {\n",
              "      const buttonEl =\n",
              "        document.querySelector('#id_335d2e0a-18dd-4e4d-b5a7-754303cca036 button.colab-df-generate');\n",
              "      buttonEl.style.display =\n",
              "        google.colab.kernel.accessAllowed ? 'block' : 'none';\n",
              "\n",
              "      buttonEl.onclick = () => {\n",
              "        google.colab.notebook.generateWithVariable('c');\n",
              "      }\n",
              "      })();\n",
              "    </script>\n",
              "  </div>\n",
              "\n",
              "    </div>\n",
              "  </div>\n"
            ],
            "application/vnd.google.colaboratory.intrinsic+json": {
              "type": "dataframe",
              "variable_name": "c"
            }
          },
          "metadata": {},
          "execution_count": 34
        }
      ]
    },
    {
      "cell_type": "code",
      "source": [
        "v=pd.read_csv('/content/drive/MyDrive/task1/combined_data (2).csv')\n",
        "v['location'] = v['location'].replace('ABBOTTABAD', 'ISLAMABAD')\n",
        "v['connection_type']=scaler1.transform(v['connection_type'])\n",
        "v['location']=scaler2.transform(v['location'])"
      ],
      "metadata": {
        "id": "ueysiy6NcUTB"
      },
      "execution_count": null,
      "outputs": []
    },
    {
      "cell_type": "code",
      "source": [
        "v.shape"
      ],
      "metadata": {
        "colab": {
          "base_uri": "https://localhost:8080/"
        },
        "id": "qVCvFziomQwv",
        "outputId": "7c13a5f7-138a-4777-e84a-cd42015db4d6"
      },
      "execution_count": null,
      "outputs": [
        {
          "output_type": "execute_result",
          "data": {
            "text/plain": [
              "(938602, 23)"
            ]
          },
          "metadata": {},
          "execution_count": 38
        }
      ]
    },
    {
      "cell_type": "code",
      "source": [
        "v.to_csv('/content/drive/MyDrive/asad123/Combinedfile.csv', index=False)"
      ],
      "metadata": {
        "id": "3rXhf0A4jjzR"
      },
      "execution_count": null,
      "outputs": []
    },
    {
      "cell_type": "code",
      "source": [
        "from google.colab import drive\n",
        "drive.mount('/content/drive')"
      ],
      "metadata": {
        "colab": {
          "base_uri": "https://localhost:8080/"
        },
        "id": "xvSn8zz4ateu",
        "outputId": "091760ee-1dfa-4b29-e0bb-266cd059f6bc"
      },
      "execution_count": null,
      "outputs": [
        {
          "output_type": "stream",
          "name": "stdout",
          "text": [
            "Mounted at /content/drive\n"
          ]
        }
      ]
    },
    {
      "cell_type": "code",
      "source": [
        "final_df['Generation_W']=pd.to_numeric(final_df['generation_W'],errors='coerce')\n",
        "final_df['Load_W']=pd.to_numeric(final_df['load_W'],errors='coerce')\n",
        "final_df['Panels_capacity']=pd.to_numeric(final_df['panels_capacity'],errors='coerce')\n",
        "final_df['Load_capacity']=pd.to_numeric(final_df['load_capacity'],errors='coerce')\n",
        "final_df['Generation_W_rolling_mean_1h']=pd.to_numeric(final_df['generation_W_rolling_mean_1h'],errors='coerce')\n",
        "final_df['Generation_to_capacity_ratio']=pd.to_numeric(final_df['generation_to_capacity_ratio'],errors='coerce')\n",
        "final_df['Time_since_start']=pd.to_numeric(final_df['time_since_start'],errors='coerce')"
      ],
      "metadata": {
        "id": "1EQKfhGaC3E8"
      },
      "execution_count": null,
      "outputs": []
    },
    {
      "cell_type": "code",
      "source": [
        " final_df.drop(['load_W','panels_capacity','load_capacity','generation_W','time_since_start','generation_W_rolling_mean_1h'\t,'generation_to_capacity_ratio'],inplace=True,axis=1)"
      ],
      "metadata": {
        "id": "zQ0EZoQQT9Jf"
      },
      "execution_count": null,
      "outputs": []
    },
    {
      "cell_type": "code",
      "source": [
        "final_df.columns\n"
      ],
      "metadata": {
        "colab": {
          "base_uri": "https://localhost:8080/"
        },
        "id": "e4pbN77dP8Co",
        "outputId": "840cad5f-4b77-4d53-c073-bfb55a0fca9f"
      },
      "execution_count": null,
      "outputs": [
        {
          "output_type": "execute_result",
          "data": {
            "text/plain": [
              "Index(['connection_type', 'location', 'year', 'month', 'day', 'hour', 'minute',\n",
              "       'time_standard', 'peak_production', 'day_of_week', 'is_weekend',\n",
              "       'time_of_day', 'season', 'Generation_W', 'Load_W', 'Panels_capacity',\n",
              "       'Load_capacity', 'Generation_W_rolling_mean_1h',\n",
              "       'Generation_to_capacity_ratio', 'Time_since_start'],\n",
              "      dtype='object')"
            ]
          },
          "metadata": {},
          "execution_count": 26
        }
      ]
    },
    {
      "cell_type": "markdown",
      "source": [
        "# Making sequences of entire dataset"
      ],
      "metadata": {
        "id": "tHP_Qg8tx5yC"
      }
    },
    {
      "cell_type": "code",
      "source": [
        "x0, X1, X2, X3, X4, X5, X6, X7, X8,X9, X10, X11, X12,X13, X14, X15, X16,X17, y1, y2 = [], [], [], [], [], [], [], [], [], [], [],[],[],[],[],[],[], [], [], []\n",
        "\n",
        "# Define the length of the sequence\n",
        "sequence_length = 6  # Number of timesteps in each sequence\n",
        "\n",
        "# Loop through the DataFrame to create sequences\n",
        "for i in range(0, final_df.shape[0] - sequence_length):\n",
        "    # Extract sequences for each feature\n",
        "    x0.append(final_df.iloc[i:i + sequence_length, 0].values)  # Feature 1\n",
        "    X1.append(final_df.iloc[i:i + sequence_length, 1].values)  # Feature 2\n",
        "    X2.append(final_df.iloc[i:i + sequence_length, 2].values)  # Feature 3\n",
        "    X3.append(final_df.iloc[i:i + sequence_length, 3].values)  # Feature 4\n",
        "    X4.append(final_df.iloc[i:i + sequence_length, 4].values)  # Feature 5\n",
        "    X5.append(final_df.iloc[i:i + sequence_length, 5].values)  # Feature 6\n",
        "    X6.append(final_df.iloc[i:i + sequence_length, 6].values)  # Feature 7\n",
        "    X7.append(final_df.iloc[i:i + sequence_length, 7].values)  # Feature 8\n",
        "    X8.append(final_df.iloc[i:i + sequence_length, 8].values)  # Feature 9\n",
        "    X9.append(final_df.iloc[i:i + sequence_length, 9].values)  # Feature 4\n",
        "    X10.append(final_df.iloc[i:i + sequence_length, 10].values)  # Feature 5\n",
        "    X11.append(final_df.iloc[i:i + sequence_length, 11].values)  # Feature 6\n",
        "    X12.append(final_df.iloc[i:i + sequence_length, 12].values)  # Feature 7\n",
        "    X13.append(final_df.iloc[i:i + sequence_length, 15].values)  # Feature 8\n",
        "    X14.append(final_df.iloc[i:i + sequence_length, 16].values)  # Feature 9\n",
        "    X15.append(final_df.iloc[i:i + sequence_length, 17].values)  # Feature 4\n",
        "    X16.append(final_df.iloc[i:i + sequence_length, 18].values)  # Feature 5\n",
        "    X17.append(final_df.iloc[i:i + sequence_length, 19].values)  # Feature 6\n",
        "\n",
        "    # Extract target values\n",
        "    y1.append(final_df.iloc[i + sequence_length, 13])  # Target 1 (Column 10)\n",
        "    y2.append(final_df.iloc[i + sequence_length, 14])  # Target 2 (Column 11)"
      ],
      "metadata": {
        "id": "Ive_xJCrDIqI"
      },
      "execution_count": null,
      "outputs": []
    },
    {
      "cell_type": "code",
      "source": [
        "x0, X1, X2, X3, X4, X5, X6, X7, X8,X9, X10, X11, X12,X13, X14, X15, X16,X17, y1, y2 = [], [], [], [], [], [], [], [], [], [], [],[],[],[],[],[],[], [], [], []\n",
        "import numpy as np\n"
      ],
      "metadata": {
        "id": "_IsIN2EDpbUs"
      },
      "execution_count": null,
      "outputs": []
    },
    {
      "cell_type": "markdown",
      "source": [
        "# Loading the available numpy saved files for model training"
      ],
      "metadata": {
        "id": "phjBMoWpyAAG"
      }
    },
    {
      "cell_type": "code",
      "source": [
        "import numpy as np\n",
        "x0=np.load('/content/drive/MyDrive/foler fer/X0 (1).npy')\n",
        "X1=np.load('/content/drive/MyDrive/foler fer/X1 (1).npy')\n",
        "X2=np.load('/content/drive/MyDrive/foler fer/X2 (1).npy')\n",
        "X3=np.load('/content/drive/MyDrive/foler fer/X3 (1).npy')\n",
        "X4=np.load('/content/drive/MyDrive/foler fer/X4.npy')\n",
        "X5=np.load('/content/drive/MyDrive/foler fer/X5 (1).npy')\n",
        "X6=np.load('/content/drive/MyDrive/foler fer/X6 (1).npy')\n",
        "X7=np.load('/content/drive/MyDrive/foler fer/X7 (1).npy')\n",
        "X8=np.load('/content/drive/MyDrive/foler fer/X8 (1).npy')\n",
        "X9=np.load('/content/drive/MyDrive/foler fer/X9.npy')\n",
        "X10=np.load('/content/drive/MyDrive/foler fer/X10.npy')\n",
        "X11=np.load('/content/drive/MyDrive/foler fer/X11.npy')\n",
        "X12=np.load('/content/drive/MyDrive/foler fer/X12.npy')\n",
        "X13=np.load('/content/drive/MyDrive/foler fer/X13.npy')\n",
        "X14=np.load('/content/drive/MyDrive/foler fer/X14.npy')\n",
        "X15=np.load('/content/drive/MyDrive/foler fer/X15.npy')\n",
        "X16=np.load('/content/drive/MyDrive/foler fer/X16.npy')\n",
        "X17=np.load('/content/drive/MyDrive/foler fer/X17.npy')\n",
        "y1=np.load('/content/drive/MyDrive/foler fer/y1 (1).npy')\n",
        "y2=np.load('/content/drive/MyDrive/foler fer/y2 (1).npy')"
      ],
      "metadata": {
        "id": "-t5nRqBKpVsp"
      },
      "execution_count": null,
      "outputs": []
    },
    {
      "cell_type": "code",
      "source": [
        "print(X5[0])\n",
        "print(X5[1])\n",
        "print(X5[2])\n",
        "print(X5[3])\n",
        "print(X5[4])\n",
        "print(X5[5])\n",
        "print(X5[6])\n",
        "print(X5[7])\n",
        "print(X5[8])\n",
        "print(X5[9])\n",
        "print(X5[10])\n",
        "print(X5[11])"
      ],
      "metadata": {
        "colab": {
          "base_uri": "https://localhost:8080/"
        },
        "id": "qUL5VxQhEFRk",
        "outputId": "c55da866-36b3-4370-f05c-edbeed5ad648"
      },
      "execution_count": null,
      "outputs": [
        {
          "output_type": "stream",
          "name": "stdout",
          "text": [
            "[1 2 2 2 2 2]\n",
            "[2 2 2 2 2 2]\n",
            "[2 2 2 2 2 3]\n",
            "[2 2 2 2 3 3]\n",
            "[2 2 2 3 3 3]\n",
            "[2 2 3 3 3 3]\n",
            "[2 3 3 3 3 3]\n",
            "[3 3 3 3 3 3]\n",
            "[3 3 3 3 3 4]\n",
            "[3 3 3 3 4 4]\n",
            "[3 3 3 4 4 4]\n",
            "[3 3 4 4 4 4]\n"
          ]
        }
      ]
    },
    {
      "cell_type": "code",
      "source": [
        "final_df['load_W']"
      ],
      "metadata": {
        "id": "kjx-DfBYO0Eh"
      },
      "execution_count": null,
      "outputs": []
    },
    {
      "cell_type": "markdown",
      "source": [
        "# Converting into numpy **arrays**"
      ],
      "metadata": {
        "id": "Vyg6kxboyYpO"
      }
    },
    {
      "cell_type": "code",
      "source": [
        "import numpy as np\n",
        "\n",
        "x0, X2, X3, X4, X5, X6, X7, X8, y1, y2=np.array(x0),np.array(X2),np.array(X3),np.array(X4),np.array(X5),np.array(X6),np.array(X7),np.array(X8),np.array(y1),np.array(y2)"
      ],
      "metadata": {
        "id": "sDVyPtW9PVYx"
      },
      "execution_count": null,
      "outputs": []
    },
    {
      "cell_type": "code",
      "source": [
        "X9, X10, X11, X12,X13, X14, X15, X16,X17=np.array(X9),np.array(X10),np.array(X11),np.array(X12),np.array(X13),np.array(X14),np.array(X15),np.array(X16),np.array(X17)"
      ],
      "metadata": {
        "id": "od86eJLDSVSM"
      },
      "execution_count": null,
      "outputs": []
    },
    {
      "cell_type": "code",
      "source": [
        "import numpy as np\n",
        "\n",
        "# Assuming x0, X1, X2, X3, X4, X5, X6, X7, X8, y1, y2 are already numpy arrays\n",
        "# Save each array individually\n",
        "np.save('/content/drive/MyDrive/asad123/x0.npy', x0)\n",
        "np.save('/content/drive/MyDrive/asad123/X1.npy', X1)\n",
        "np.save('/content/drive/MyDrive/asad123/X2.npy', X2)\n",
        "np.save('/content/drive/MyDrive/asad123/X3.npy', X3)\n",
        "np.save('/content/drive/MyDrive/asad123/X4.npy', X4)\n",
        "np.save('/content/drive/MyDrive/asad123/X5.npy', X5)\n",
        "np.save('/content/drive/MyDrive/asad123/X6.npy', X6)\n",
        "np.save('/content/drive/MyDrive/asad123/X7.npy', X7)\n",
        "np.save('/content/drive/MyDrive/asad123/X8.npy', X8)\n",
        "np.save('/content/drive/MyDrive/asad123/X3.npy', X9)\n",
        "np.save('/content/drive/MyDrive/asad123/X4.npy', X10)\n",
        "np.save('/content/drive/MyDrive/asad123/X5.npy', X11)\n",
        "np.save('/content/drive/MyDrive/asad123/X6.npy', X12)\n",
        "np.save('/content/drive/MyDrive/asad123/X7.npy', X13)\n",
        "np.save('/content/drive/MyDrive/asad123/X8.npy', X14)\n",
        "np.save('/content/drive/MyDrive/asad123/X6.npy', X15)\n",
        "np.save('/content/drive/MyDrive/asad123/X7.npy', X16)\n",
        "np.save('/content/drive/MyDrive/asad123/X8.npy', X17)\n",
        "np.save('/content/drive/MyDrive/asad123/y1.npy', y1)\n",
        "np.save('/content/drive/MyDrive/asad123/y2.npy', y2)\n",
        "\n",
        "# Or save all arrays in a single compressed file\n",
        "# np.savez_compressed('/content/drive/MyDrive/asad123/data.npz', x0=x0, X1=X1, X2=X2, X3=X3, X4=X4, X5=X5, X6=X6, X7=X7, X8=X8, y1=y1, y2=y2)\n"
      ],
      "metadata": {
        "id": "-LUVoOdcRrOr",
        "colab": {
          "base_uri": "https://localhost:8080/",
          "height": 211
        },
        "outputId": "7ca336f8-b5d1-424f-a940-57e9755dd95c"
      },
      "execution_count": null,
      "outputs": [
        {
          "output_type": "error",
          "ename": "NameError",
          "evalue": "name 'x0' is not defined",
          "traceback": [
            "\u001b[0;31m---------------------------------------------------------------------------\u001b[0m",
            "\u001b[0;31mNameError\u001b[0m                                 Traceback (most recent call last)",
            "\u001b[0;32m<ipython-input-40-b6af0e6f421a>\u001b[0m in \u001b[0;36m<cell line: 5>\u001b[0;34m()\u001b[0m\n\u001b[1;32m      3\u001b[0m \u001b[0;31m# Assuming x0, X1, X2, X3, X4, X5, X6, X7, X8, y1, y2 are already numpy arrays\u001b[0m\u001b[0;34m\u001b[0m\u001b[0;34m\u001b[0m\u001b[0m\n\u001b[1;32m      4\u001b[0m \u001b[0;31m# Save each array individually\u001b[0m\u001b[0;34m\u001b[0m\u001b[0;34m\u001b[0m\u001b[0m\n\u001b[0;32m----> 5\u001b[0;31m \u001b[0mnp\u001b[0m\u001b[0;34m.\u001b[0m\u001b[0msave\u001b[0m\u001b[0;34m(\u001b[0m\u001b[0;34m'/content/drive/MyDrive/asad123/x0.npy'\u001b[0m\u001b[0;34m,\u001b[0m \u001b[0mx0\u001b[0m\u001b[0;34m)\u001b[0m\u001b[0;34m\u001b[0m\u001b[0;34m\u001b[0m\u001b[0m\n\u001b[0m\u001b[1;32m      6\u001b[0m \u001b[0mnp\u001b[0m\u001b[0;34m.\u001b[0m\u001b[0msave\u001b[0m\u001b[0;34m(\u001b[0m\u001b[0;34m'/content/drive/MyDrive/asad123/X1.npy'\u001b[0m\u001b[0;34m,\u001b[0m \u001b[0mX1\u001b[0m\u001b[0;34m)\u001b[0m\u001b[0;34m\u001b[0m\u001b[0;34m\u001b[0m\u001b[0m\n\u001b[1;32m      7\u001b[0m \u001b[0mnp\u001b[0m\u001b[0;34m.\u001b[0m\u001b[0msave\u001b[0m\u001b[0;34m(\u001b[0m\u001b[0;34m'/content/drive/MyDrive/asad123/X2.npy'\u001b[0m\u001b[0;34m,\u001b[0m \u001b[0mX2\u001b[0m\u001b[0;34m)\u001b[0m\u001b[0;34m\u001b[0m\u001b[0;34m\u001b[0m\u001b[0m\n",
            "\u001b[0;31mNameError\u001b[0m: name 'x0' is not defined"
          ]
        }
      ]
    },
    {
      "cell_type": "markdown",
      "source": [
        "# Saving the scalers"
      ],
      "metadata": {
        "id": "yzyEoporye7j"
      }
    },
    {
      "cell_type": "code",
      "source": [
        "from sklearn.preprocessing import MinMaxScaler\n",
        "import joblib\n",
        "\n",
        "\n",
        "# Save the scaler to a file\n",
        "joblib.dump(scaler, '/content/drive/MyDrive/asad123/minmax_scaler.pkl')\n",
        "joblib.dump(scaler2, '/content/drive/MyDrive/asad123/minmax_scaler2.pkl')\n"
      ],
      "metadata": {
        "colab": {
          "base_uri": "https://localhost:8080/"
        },
        "id": "JBLyYr9jzw_C",
        "outputId": "7164376f-7b25-43d5-9f6a-8b28c768154f"
      },
      "execution_count": null,
      "outputs": [
        {
          "output_type": "execute_result",
          "data": {
            "text/plain": [
              "['/content/drive/MyDrive/asad123/minmax_scaler2.pkl']"
            ]
          },
          "metadata": {},
          "execution_count": 65
        }
      ]
    },
    {
      "cell_type": "code",
      "source": [],
      "metadata": {
        "id": "lmfLAnRb7_iA"
      },
      "execution_count": null,
      "outputs": []
    },
    {
      "cell_type": "code",
      "source": [
        "for i in"
      ],
      "metadata": {
        "id": "tHog82Ul8I1t",
        "outputId": "c41226e4-af82-4e07-b15d-f3e5e2d2629f",
        "colab": {
          "base_uri": "https://localhost:8080/"
        }
      },
      "execution_count": null,
      "outputs": [
        {
          "output_type": "stream",
          "name": "stdout",
          "text": [
            "[0. 0. 0. 0. 0. 0.]\n",
            "[0.52941176 0.52941176 0.52941176 0.52941176 0.52941176 0.52941176]\n",
            "[0. 0. 0. 0. 0. 0.]\n",
            "[0.63636364 0.63636364 0.63636364 0.63636364 0.63636364 0.63636364]\n",
            "[0.00305089 0.00305089 0.00305089 0.00305089 0.00305089 0.00305089]\n",
            "[0.04347826 0.08695652 0.08695652 0.08695652 0.08695652 0.08695652]\n",
            "[1.  0.  0.2 0.4 0.6 0.8]\n",
            "[0. 0. 0. 0. 0. 0.]\n",
            "[1. 1. 1. 1. 1. 1.]\n",
            "[0. 0. 0. 0. 0. 0.]\n",
            "[0. 0. 0. 0. 0. 0.]\n",
            "[1. 1. 1. 1. 1. 1.]\n",
            "[0.66666667 0.66666667 0.66666667 0.66666667 0.66666667 0.66666667]\n",
            "[0.00305089 0.00305089 0.00305089 0.00305089 0.00305089 0.00305089]\n",
            "[0. 0. 0. 0. 0. 0.]\n",
            "[0. 0. 0. 0. 0. 0.]\n",
            "[0. 0. 0. 0. 0. 0.]\n",
            "[0.03341548 0.03343387 0.03345226 0.03347065 0.03348904 0.03350743]\n"
          ]
        }
      ]
    },
    {
      "cell_type": "code",
      "source": [],
      "metadata": {
        "id": "OH19Og-WCa6u"
      },
      "execution_count": null,
      "outputs": []
    },
    {
      "cell_type": "markdown",
      "source": [
        "# Reshaping the outputs for model feed"
      ],
      "metadata": {
        "id": "56stKA9q8XqQ"
      }
    },
    {
      "cell_type": "code",
      "source": [
        "\n",
        "y1 = y1.reshape(-1, 1)\n",
        "y2 = y2.reshape(-1, 1)"
      ],
      "metadata": {
        "id": "UoXeTAqtS0_e"
      },
      "execution_count": null,
      "outputs": []
    },
    {
      "cell_type": "code",
      "source": [],
      "metadata": {
        "id": "RC_1ASv2ALwP"
      },
      "execution_count": null,
      "outputs": []
    },
    {
      "cell_type": "code",
      "source": [
        "y2.shape"
      ],
      "metadata": {
        "colab": {
          "base_uri": "https://localhost:8080/"
        },
        "id": "tYdAjVB3S_-2",
        "outputId": "10f73267-16f1-4578-a1d3-ed26e47ce966"
      },
      "execution_count": null,
      "outputs": [
        {
          "output_type": "execute_result",
          "data": {
            "text/plain": [
              "(3845822, 1)"
            ]
          },
          "metadata": {},
          "execution_count": 62
        }
      ]
    },
    {
      "cell_type": "code",
      "source": [
        "final_df.shape"
      ],
      "metadata": {
        "colab": {
          "base_uri": "https://localhost:8080/",
          "height": 141
        },
        "id": "6Gw5igjfTAke",
        "outputId": "53baa085-4238-4b37-e993-5a29a26d9b21"
      },
      "execution_count": null,
      "outputs": [
        {
          "output_type": "error",
          "ename": "NameError",
          "evalue": "name 'final_df' is not defined",
          "traceback": [
            "\u001b[0;31m---------------------------------------------------------------------------\u001b[0m",
            "\u001b[0;31mNameError\u001b[0m                                 Traceback (most recent call last)",
            "\u001b[0;32m<ipython-input-12-609ab7f310cc>\u001b[0m in \u001b[0;36m<cell line: 1>\u001b[0;34m()\u001b[0m\n\u001b[0;32m----> 1\u001b[0;31m \u001b[0mfinal_df\u001b[0m\u001b[0;34m.\u001b[0m\u001b[0mshape\u001b[0m\u001b[0;34m\u001b[0m\u001b[0;34m\u001b[0m\u001b[0m\n\u001b[0m",
            "\u001b[0;31mNameError\u001b[0m: name 'final_df' is not defined"
          ]
        }
      ]
    },
    {
      "cell_type": "code",
      "source": [
        "import sklearn.preprocessing\n",
        "from sklearn.preprocessing import MinMaxScaler\n",
        "scaler=MinMaxScaler()\n",
        "scaler2=MinMaxScaler()\n",
        "x0=scaler.fit_transform(x0)\n",
        "X1=scaler.fit_transform(X1)\n",
        "X2=scaler.fit_transform(X2)\n",
        "X3=scaler.fit_transform(X3)\n",
        "X4=scaler.fit_transform(X4)\n",
        "X5=scaler.fit_transform(X5)\n",
        "X6=scaler.fit_transform(X6)\n",
        "X7=scaler.fit_transform(X7)\n",
        "X8=scaler.fit_transform(X8)\n",
        "X9=scaler.fit_transform(X9)\n",
        "X10=scaler.fit_transform(X10)\n",
        "X11=scaler.fit_transform(X11)\n",
        "X12=scaler.fit_transform(X12)\n",
        "X13=scaler.fit_transform(X13)\n",
        "X14=scaler.fit_transform(X14)\n",
        "X15=scaler.fit_transform(X15)\n",
        "X16=scaler.fit_transform(X16)\n",
        "X17=scaler.fit_transform(X17)\n",
        "y1=scaler2.fit_transform(y1)\n",
        "y2=scaler2.fit_transform(y2)"
      ],
      "metadata": {
        "id": "P9cXi8ijTHGb"
      },
      "execution_count": null,
      "outputs": []
    },
    {
      "cell_type": "code",
      "source": [],
      "metadata": {
        "id": "c6Z9Ol8j8eDH"
      },
      "execution_count": null,
      "outputs": []
    },
    {
      "cell_type": "markdown",
      "source": [
        "# Stacking the the numpy arrays"
      ],
      "metadata": {
        "id": "z05tWgsR8eo4"
      }
    },
    {
      "cell_type": "code",
      "source": [
        "import numpy as np\n",
        "\n",
        "# x0, X1, X2, X3, X4, X5, X6, X7, X8, y1, y2=np.array(x0),np.array(X1),np.array(X2),np.array(X3),np.array(X4),np.array(X5),np.array(X6),np.array(X7),np.array(X8),np.array(y1),np.array(y2)\n",
        "X=np.stack((x0,X2,X3,X4,X5,X6,X7,X8,X9,X10,X11,X12,X13,X14,X15,X16,X17),axis=2)\n",
        "Y=np.stack((y1,y2),axis=2)"
      ],
      "metadata": {
        "id": "TjQdtJ5OXOnv"
      },
      "execution_count": null,
      "outputs": []
    },
    {
      "cell_type": "code",
      "source": [],
      "metadata": {
        "id": "L90RaCDZCpK3"
      },
      "execution_count": null,
      "outputs": []
    },
    {
      "cell_type": "markdown",
      "source": [
        "# Testing the Shapes"
      ],
      "metadata": {
        "id": "lk0MKPoo8nXw"
      }
    },
    {
      "cell_type": "code",
      "source": [
        "X_train.shape[1], X_train.shape[2]"
      ],
      "metadata": {
        "colab": {
          "base_uri": "https://localhost:8080/"
        },
        "id": "JlCWrZiAj05z",
        "outputId": "7622d722-8a5e-4894-a2c1-6be735fdf4d6"
      },
      "execution_count": null,
      "outputs": [
        {
          "output_type": "execute_result",
          "data": {
            "text/plain": [
              "(6, 17)"
            ]
          },
          "metadata": {},
          "execution_count": 17
        }
      ]
    },
    {
      "cell_type": "code",
      "source": [
        "# Split the data into training and testing sets\n",
        "from sklearn.model_selection import train_test_split\n",
        "X_train, X_test, Y_train, Y_test = train_test_split(X, Y, test_size=0.2, random_state=42)\n"
      ],
      "metadata": {
        "id": "UXw0Hjb7Xb1D"
      },
      "execution_count": null,
      "outputs": []
    },
    {
      "cell_type": "markdown",
      "source": [
        "# Building the model"
      ],
      "metadata": {
        "id": "fm8hfDzk9PT5"
      }
    },
    {
      "cell_type": "code",
      "source": [
        "from tensorflow.keras.models import Sequential\n",
        "from tensorflow.keras.layers import Dense, Dropout, LSTM, TimeDistributed\n",
        "from tensorflow.keras.optimizers import Adam\n",
        "from tensorflow.keras.callbacks import EarlyStopping\n",
        "\n",
        "model = Sequential()\n",
        "# Use input_shape in the first layer\n",
        "model.add(LSTM(units=50, batch_input_shape=(64,X_train.shape[1], X_train.shape[2]), return_sequences=True))\n",
        "\n",
        "model.add(LSTM(units=50,return_sequences=False))\n",
        "model.add(Dense(units=2,activation='linear'))\n",
        "model.compile(optimizer=Adam(learning_rate=0.001), loss='mean_squared_error')\n",
        "\n",
        "# Model summary\n",
        "model.summary()\n"
      ],
      "metadata": {
        "id": "YnIrgA9uXeKv",
        "colab": {
          "base_uri": "https://localhost:8080/"
        },
        "outputId": "4b0f48e5-1e70-4b4b-e5a1-fbbcab848876"
      },
      "execution_count": null,
      "outputs": [
        {
          "output_type": "stream",
          "name": "stdout",
          "text": [
            "Model: \"sequential\"\n",
            "_________________________________________________________________\n",
            " Layer (type)                Output Shape              Param #   \n",
            "=================================================================\n",
            " lstm (LSTM)                 (64, 6, 50)               13600     \n",
            "                                                                 \n",
            " lstm_1 (LSTM)               (64, 50)                  20200     \n",
            "                                                                 \n",
            " dense (Dense)               (64, 2)                   102       \n",
            "                                                                 \n",
            "=================================================================\n",
            "Total params: 33902 (132.43 KB)\n",
            "Trainable params: 33902 (132.43 KB)\n",
            "Non-trainable params: 0 (0.00 Byte)\n",
            "_________________________________________________________________\n"
          ]
        }
      ]
    },
    {
      "cell_type": "code",
      "source": [
        "from google.colab import drive\n",
        "drive.mount('/content/driv')"
      ],
      "metadata": {
        "id": "6_bxVzYyoDlg"
      },
      "execution_count": null,
      "outputs": []
    },
    {
      "cell_type": "code",
      "source": [
        "model.fit(X_train, Y_train, epochs=5, batch_size=32, validation_split=0.2)"
      ],
      "metadata": {
        "id": "XAAp5SoYX3iH"
      },
      "execution_count": null,
      "outputs": []
    },
    {
      "cell_type": "code",
      "source": [
        "model.save('/content/driv')"
      ],
      "metadata": {
        "id": "ia9AtSslX7vX",
        "colab": {
          "base_uri": "https://localhost:8080/"
        },
        "outputId": "c5e03eca-2ae1-4bdd-ae18-25243b2a2ab1"
      },
      "execution_count": null,
      "outputs": [
        {
          "output_type": "stream",
          "name": "stderr",
          "text": [
            "/usr/local/lib/python3.10/dist-packages/keras/src/engine/training.py:3103: UserWarning: You are saving your model as an HDF5 file via `model.save()`. This file format is considered legacy. We recommend using instead the native Keras format, e.g. `model.save('my_model.keras')`.\n",
            "  saving_api.save_model(\n"
          ]
        }
      ]
    }
  ]
}